{
 "cells": [
  {
   "cell_type": "code",
   "execution_count": 1,
   "metadata": {
    "collapsed": false
   },
   "outputs": [
    {
     "name": "stdout",
     "output_type": "stream",
     "text": [
      "Enter a number of samples(integer): 30\n",
      "Enter a sample size(integer 1 - 52): 3\n",
      "Do you want to generate histogram of mean distribution?(Type \"yes\" if you want to) yes\n",
      "Mean of sample means is: 6.488889\n",
      "Variance is: 3.449877\n",
      "Standard deviation is: 1.857384\n"
     ]
    }
   ],
   "source": [
    "import random\n",
    "import csv\n",
    "import numpy as np\n",
    "import math\n",
    "import matplotlib.pyplot as plt\n",
    "\n",
    "number_of_samples = int(raw_input('Enter a number of samples(integer): '))\n",
    "sample_size = int(raw_input('Enter a sample size(integer 1 - 52): '))\n",
    "\n",
    "# Writes random values into csv file, their sum and their mean\n",
    "def card_randomizer(number_of_samples, sample_size):\n",
    "    csvfile = ('drawcards.csv')\n",
    "    with open(csvfile, 'w') as out:\n",
    "        for i in xrange(number_of_samples):\n",
    "            cards = [1, 2, 3, 4, 5, 6, 7, 8, 9, 10, 10, 10, 10,\\\n",
    "            1, 2, 3, 4, 5, 6, 7, 8, 9, 10, 10, 10, 10, \\\n",
    "            1, 2, 3, 4, 5, 6, 7, 8, 9, 10, 10, 10, 10,\\\n",
    "            1, 2, 3, 4, 5, 6, 7, 8, 9, 10, 10, 10, 10]\n",
    "            drawn_cards = random.sample(cards, sample_size)\n",
    "            sum_of_drawn_cards = sum(drawn_cards)\n",
    "            mean_of_drawn_cards = 1.0 * sum_of_drawn_cards / sample_size\n",
    "            drawn_cards.append(sum_of_drawn_cards)\n",
    "            drawn_cards.append(mean_of_drawn_cards)\n",
    "            writer = csv.writer(out, delimiter = ',', lineterminator='\\n')\n",
    "            writer.writerow(drawn_cards)\n",
    "\n",
    "# Reads sample means from csv file and stores it into a list\n",
    "def read_csv():\n",
    "    sample_means = []\n",
    "    with open('drawcards.csv', 'r') as csvfile:\n",
    "        reader = csv.reader(csvfile, delimiter=',')\n",
    "        for row in reader:\n",
    "            sample_means.append(float(row[-1]))\n",
    "    return sample_means\n",
    "\n",
    "# Calculates mean of sample means, variance, and standard deviation and\n",
    "# prints it to console\n",
    "def mean_var_std(sample_means):\n",
    "    mean_of_sample_means = np.mean(sample_means)\n",
    "    squared_error = []\n",
    "    for i in sample_means:\n",
    "        squared_error.append((i-mean_of_sample_means)**2)\n",
    "    variance = np.mean(squared_error)\n",
    "    std = math.sqrt(variance)\n",
    "    print 'Mean of sample means is: %f\\nVariance is: %f\\nStandard deviation is: %f'\\\n",
    "    % (mean_of_sample_means, variance, std)\n",
    "\n",
    "# Generates a histogram of mean distribution    \n",
    "def hist_generator(data, number_of_samples):\n",
    "    n, bins, patches = plt.hist(data, bins = np.arange(0, 11, 0.5),\\\n",
    "    facecolor ='blue', alpha = 0.75, align= \"mid\")\n",
    "    plt.xlabel('Mean distribution')\n",
    "    plt.title('Histogram of mean distribution')\n",
    "    plt.axis([0, 11, 0, number_of_samples * 0.25])\n",
    "    plt.grid(True)\n",
    "    plt.show()\n",
    "\n",
    "def main():\n",
    "    card_randomizer(number_of_samples,sample_size)\n",
    "    question = raw_input('Do you want to generate histogram of mean distribution?(Type \"yes\" if you want to) ')\n",
    "    if question.upper() == 'YES':\n",
    "        hist_generator(read_csv(), number_of_samples)\n",
    "        mean_var_std(read_csv())\n",
    "main()"
   ]
  },
  {
   "cell_type": "code",
   "execution_count": null,
   "metadata": {
    "collapsed": true
   },
   "outputs": [],
   "source": []
  }
 ],
 "metadata": {
  "kernelspec": {
   "display_name": "Python 2",
   "language": "python",
   "name": "python2"
  },
  "language_info": {
   "codemirror_mode": {
    "name": "ipython",
    "version": 2
   },
   "file_extension": ".py",
   "mimetype": "text/x-python",
   "name": "python",
   "nbconvert_exporter": "python",
   "pygments_lexer": "ipython2",
   "version": "2.7.11"
  }
 },
 "nbformat": 4,
 "nbformat_minor": 0
}
